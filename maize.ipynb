{
  "nbformat": 4,
  "nbformat_minor": 0,
  "metadata": {
    "colab": {
      "provenance": []
    },
    "kernelspec": {
      "name": "python3",
      "display_name": "Python 3"
    },
    "language_info": {
      "name": "python"
    },
    "accelerator": "GPU"
  },
  "cells": [
    {
      "cell_type": "code",
      "execution_count": 1,
      "metadata": {
        "id": "02ca2LKx1JsW"
      },
      "outputs": [],
      "source": [
        "import numpy as np\n",
        "import pandas as pd\n",
        "from pathlib import Path\n",
        "import os.path\n",
        "\n",
        "import matplotlib.pyplot as plt"
      ]
    },
    {
      "cell_type": "code",
      "source": [
        "image_dir = Path('/content/drive/MyDrive/dataMine/data')\n",
        "filepath = list(image_dir.glob(r'**/*.jpg'))"
      ],
      "metadata": {
        "id": "qlmMyfYu1yuE"
      },
      "execution_count": 2,
      "outputs": []
    },
    {
      "cell_type": "code",
      "source": [
        "filepath"
      ],
      "metadata": {
        "colab": {
          "base_uri": "https://localhost:8080/"
        },
        "id": "koly1bRbD9XP",
        "outputId": "50a40ff1-941d-448f-8296-838eb942bbb2"
      },
      "execution_count": 14,
      "outputs": [
        {
          "output_type": "execute_result",
          "data": {
            "text/plain": [
              "0       /content/drive/MyDrive/dataMine/data/0/1622099...\n",
              "1       /content/drive/MyDrive/dataMine/data/0/1622101...\n",
              "2       /content/drive/MyDrive/dataMine/data/0/1622098...\n",
              "3       /content/drive/MyDrive/dataMine/data/0/1622101...\n",
              "4       /content/drive/MyDrive/dataMine/data/0/1622098...\n",
              "                              ...                        \n",
              "1848    /content/drive/MyDrive/dataMine/data/1/1621492...\n",
              "1849    /content/drive/MyDrive/dataMine/data/1/1621861...\n",
              "1850    /content/drive/MyDrive/dataMine/data/1/1621590...\n",
              "1851    /content/drive/MyDrive/dataMine/data/1/1621419...\n",
              "1852    /content/drive/MyDrive/dataMine/data/1/1622093...\n",
              "Name: Filepath, Length: 1853, dtype: object"
            ]
          },
          "metadata": {},
          "execution_count": 14
        }
      ]
    },
    {
      "cell_type": "code",
      "source": [
        "labels = list(map(lambda x: os.path.split(os.path.split(x)[0])[1], filepath))"
      ],
      "metadata": {
        "id": "ZpROjQR62KM1"
      },
      "execution_count": 3,
      "outputs": []
    },
    {
      "cell_type": "code",
      "source": [
        "filepath = pd.Series(filepath, name='Filepath').astype(str)\n",
        "labels = pd.Series(labels, name='label')\n",
        "\n",
        "image_df = pd.concat([filepath, labels], axis=1)"
      ],
      "metadata": {
        "id": "RP3fIeQJ3Jj2"
      },
      "execution_count": 4,
      "outputs": []
    },
    {
      "cell_type": "code",
      "source": [
        "image_df"
      ],
      "metadata": {
        "colab": {
          "base_uri": "https://localhost:8080/",
          "height": 424
        },
        "id": "c6ikJVn_33oz",
        "outputId": "9e8e7d90-48b6-4f08-8562-d895f6b222e5"
      },
      "execution_count": 5,
      "outputs": [
        {
          "output_type": "execute_result",
          "data": {
            "text/plain": [
              "                                               Filepath label\n",
              "0     /content/drive/MyDrive/dataMine/data/0/1622099...     0\n",
              "1     /content/drive/MyDrive/dataMine/data/0/1622101...     0\n",
              "2     /content/drive/MyDrive/dataMine/data/0/1622098...     0\n",
              "3     /content/drive/MyDrive/dataMine/data/0/1622101...     0\n",
              "4     /content/drive/MyDrive/dataMine/data/0/1622098...     0\n",
              "...                                                 ...   ...\n",
              "1848  /content/drive/MyDrive/dataMine/data/1/1621492...     1\n",
              "1849  /content/drive/MyDrive/dataMine/data/1/1621861...     1\n",
              "1850  /content/drive/MyDrive/dataMine/data/1/1621590...     1\n",
              "1851  /content/drive/MyDrive/dataMine/data/1/1621419...     1\n",
              "1852  /content/drive/MyDrive/dataMine/data/1/1622093...     1\n",
              "\n",
              "[1853 rows x 2 columns]"
            ],
            "text/html": [
              "\n",
              "  <div id=\"df-be5c52fd-87f3-4460-b2d6-ea3e69333732\">\n",
              "    <div class=\"colab-df-container\">\n",
              "      <div>\n",
              "<style scoped>\n",
              "    .dataframe tbody tr th:only-of-type {\n",
              "        vertical-align: middle;\n",
              "    }\n",
              "\n",
              "    .dataframe tbody tr th {\n",
              "        vertical-align: top;\n",
              "    }\n",
              "\n",
              "    .dataframe thead th {\n",
              "        text-align: right;\n",
              "    }\n",
              "</style>\n",
              "<table border=\"1\" class=\"dataframe\">\n",
              "  <thead>\n",
              "    <tr style=\"text-align: right;\">\n",
              "      <th></th>\n",
              "      <th>Filepath</th>\n",
              "      <th>label</th>\n",
              "    </tr>\n",
              "  </thead>\n",
              "  <tbody>\n",
              "    <tr>\n",
              "      <th>0</th>\n",
              "      <td>/content/drive/MyDrive/dataMine/data/0/1622099...</td>\n",
              "      <td>0</td>\n",
              "    </tr>\n",
              "    <tr>\n",
              "      <th>1</th>\n",
              "      <td>/content/drive/MyDrive/dataMine/data/0/1622101...</td>\n",
              "      <td>0</td>\n",
              "    </tr>\n",
              "    <tr>\n",
              "      <th>2</th>\n",
              "      <td>/content/drive/MyDrive/dataMine/data/0/1622098...</td>\n",
              "      <td>0</td>\n",
              "    </tr>\n",
              "    <tr>\n",
              "      <th>3</th>\n",
              "      <td>/content/drive/MyDrive/dataMine/data/0/1622101...</td>\n",
              "      <td>0</td>\n",
              "    </tr>\n",
              "    <tr>\n",
              "      <th>4</th>\n",
              "      <td>/content/drive/MyDrive/dataMine/data/0/1622098...</td>\n",
              "      <td>0</td>\n",
              "    </tr>\n",
              "    <tr>\n",
              "      <th>...</th>\n",
              "      <td>...</td>\n",
              "      <td>...</td>\n",
              "    </tr>\n",
              "    <tr>\n",
              "      <th>1848</th>\n",
              "      <td>/content/drive/MyDrive/dataMine/data/1/1621492...</td>\n",
              "      <td>1</td>\n",
              "    </tr>\n",
              "    <tr>\n",
              "      <th>1849</th>\n",
              "      <td>/content/drive/MyDrive/dataMine/data/1/1621861...</td>\n",
              "      <td>1</td>\n",
              "    </tr>\n",
              "    <tr>\n",
              "      <th>1850</th>\n",
              "      <td>/content/drive/MyDrive/dataMine/data/1/1621590...</td>\n",
              "      <td>1</td>\n",
              "    </tr>\n",
              "    <tr>\n",
              "      <th>1851</th>\n",
              "      <td>/content/drive/MyDrive/dataMine/data/1/1621419...</td>\n",
              "      <td>1</td>\n",
              "    </tr>\n",
              "    <tr>\n",
              "      <th>1852</th>\n",
              "      <td>/content/drive/MyDrive/dataMine/data/1/1622093...</td>\n",
              "      <td>1</td>\n",
              "    </tr>\n",
              "  </tbody>\n",
              "</table>\n",
              "<p>1853 rows × 2 columns</p>\n",
              "</div>\n",
              "      <button class=\"colab-df-convert\" onclick=\"convertToInteractive('df-be5c52fd-87f3-4460-b2d6-ea3e69333732')\"\n",
              "              title=\"Convert this dataframe to an interactive table.\"\n",
              "              style=\"display:none;\">\n",
              "        \n",
              "  <svg xmlns=\"http://www.w3.org/2000/svg\" height=\"24px\"viewBox=\"0 0 24 24\"\n",
              "       width=\"24px\">\n",
              "    <path d=\"M0 0h24v24H0V0z\" fill=\"none\"/>\n",
              "    <path d=\"M18.56 5.44l.94 2.06.94-2.06 2.06-.94-2.06-.94-.94-2.06-.94 2.06-2.06.94zm-11 1L8.5 8.5l.94-2.06 2.06-.94-2.06-.94L8.5 2.5l-.94 2.06-2.06.94zm10 10l.94 2.06.94-2.06 2.06-.94-2.06-.94-.94-2.06-.94 2.06-2.06.94z\"/><path d=\"M17.41 7.96l-1.37-1.37c-.4-.4-.92-.59-1.43-.59-.52 0-1.04.2-1.43.59L10.3 9.45l-7.72 7.72c-.78.78-.78 2.05 0 2.83L4 21.41c.39.39.9.59 1.41.59.51 0 1.02-.2 1.41-.59l7.78-7.78 2.81-2.81c.8-.78.8-2.07 0-2.86zM5.41 20L4 18.59l7.72-7.72 1.47 1.35L5.41 20z\"/>\n",
              "  </svg>\n",
              "      </button>\n",
              "      \n",
              "  <style>\n",
              "    .colab-df-container {\n",
              "      display:flex;\n",
              "      flex-wrap:wrap;\n",
              "      gap: 12px;\n",
              "    }\n",
              "\n",
              "    .colab-df-convert {\n",
              "      background-color: #E8F0FE;\n",
              "      border: none;\n",
              "      border-radius: 50%;\n",
              "      cursor: pointer;\n",
              "      display: none;\n",
              "      fill: #1967D2;\n",
              "      height: 32px;\n",
              "      padding: 0 0 0 0;\n",
              "      width: 32px;\n",
              "    }\n",
              "\n",
              "    .colab-df-convert:hover {\n",
              "      background-color: #E2EBFA;\n",
              "      box-shadow: 0px 1px 2px rgba(60, 64, 67, 0.3), 0px 1px 3px 1px rgba(60, 64, 67, 0.15);\n",
              "      fill: #174EA6;\n",
              "    }\n",
              "\n",
              "    [theme=dark] .colab-df-convert {\n",
              "      background-color: #3B4455;\n",
              "      fill: #D2E3FC;\n",
              "    }\n",
              "\n",
              "    [theme=dark] .colab-df-convert:hover {\n",
              "      background-color: #434B5C;\n",
              "      box-shadow: 0px 1px 3px 1px rgba(0, 0, 0, 0.15);\n",
              "      filter: drop-shadow(0px 1px 2px rgba(0, 0, 0, 0.3));\n",
              "      fill: #FFFFFF;\n",
              "    }\n",
              "  </style>\n",
              "\n",
              "      <script>\n",
              "        const buttonEl =\n",
              "          document.querySelector('#df-be5c52fd-87f3-4460-b2d6-ea3e69333732 button.colab-df-convert');\n",
              "        buttonEl.style.display =\n",
              "          google.colab.kernel.accessAllowed ? 'block' : 'none';\n",
              "\n",
              "        async function convertToInteractive(key) {\n",
              "          const element = document.querySelector('#df-be5c52fd-87f3-4460-b2d6-ea3e69333732');\n",
              "          const dataTable =\n",
              "            await google.colab.kernel.invokeFunction('convertToInteractive',\n",
              "                                                     [key], {});\n",
              "          if (!dataTable) return;\n",
              "\n",
              "          const docLinkHtml = 'Like what you see? Visit the ' +\n",
              "            '<a target=\"_blank\" href=https://colab.research.google.com/notebooks/data_table.ipynb>data table notebook</a>'\n",
              "            + ' to learn more about interactive tables.';\n",
              "          element.innerHTML = '';\n",
              "          dataTable['output_type'] = 'display_data';\n",
              "          await google.colab.output.renderOutput(dataTable, element);\n",
              "          const docLink = document.createElement('div');\n",
              "          docLink.innerHTML = docLinkHtml;\n",
              "          element.appendChild(docLink);\n",
              "        }\n",
              "      </script>\n",
              "    </div>\n",
              "  </div>\n",
              "  "
            ]
          },
          "metadata": {},
          "execution_count": 5
        }
      ]
    },
    {
      "cell_type": "code",
      "source": [
        "from sklearn.model_selection import train_test_split\n",
        "import tensorflow as tf\n",
        "import tensorflow.keras.layers as tfl"
      ],
      "metadata": {
        "id": "JyYR_wyH34t7"
      },
      "execution_count": 6,
      "outputs": []
    },
    {
      "cell_type": "code",
      "source": [
        "train_df, test_df = train_test_split(image_df, train_size=0.7, shuffle=True, random_state=1)"
      ],
      "metadata": {
        "id": "0GX2nH7LU5N0"
      },
      "execution_count": 7,
      "outputs": []
    },
    {
      "cell_type": "markdown",
      "source": [
        "### Load image data"
      ],
      "metadata": {
        "id": "jo8XdfbhWMW-"
      }
    },
    {
      "cell_type": "code",
      "source": [
        "train_gen = tf.keras.preprocessing.image.ImageDataGenerator(\n",
        "    rescale=1./255,\n",
        "    width_shift_range=0.2,\n",
        "    height_shift_range=0.2,\n",
        "    validation_split=0.2\n",
        ")\n",
        "test_gen = tf.keras.preprocessing.image.ImageDataGenerator(\n",
        "    rescale=1./255\n",
        ")"
      ],
      "metadata": {
        "id": "H4CDnEWIU5VD"
      },
      "execution_count": 8,
      "outputs": []
    },
    {
      "cell_type": "code",
      "source": [
        "train_images = train_gen.flow_from_dataframe(\n",
        "    dataframe=train_df,\n",
        "    x_col='Filepath',\n",
        "    y_col='label',\n",
        "    target_size=(256, 256),\n",
        "    color_mode='rgb',\n",
        "    class_mode='binary',\n",
        "    batch_size=32,\n",
        "    shuffle=True,\n",
        "    seed=42,\n",
        "    subset='training'\n",
        ")\n",
        "\n",
        "val_images = train_gen.flow_from_dataframe(\n",
        "    dataframe=train_df,\n",
        "    x_col='Filepath',\n",
        "    y_col='label',\n",
        "    target_size=(256, 256),\n",
        "    color_mode='rgb',\n",
        "    class_mode='binary',\n",
        "    batch_size=32,\n",
        "    shuffle=True,\n",
        "    seed=42,\n",
        "    subset='validation'\n",
        ")\n",
        "\n",
        "test_images = test_gen.flow_from_dataframe(\n",
        "    dataframe=test_df,\n",
        "    x_col='Filepath',\n",
        "    y_col='label',\n",
        "    target_size=(256, 256),\n",
        "    color_mode='rgb',\n",
        "    class_mode='binary',\n",
        "    batch_size=32,\n",
        "    shuffle=False\n",
        ")"
      ],
      "metadata": {
        "colab": {
          "base_uri": "https://localhost:8080/"
        },
        "id": "EbWinhsGXd7Y",
        "outputId": "ad9b2329-663d-418e-d99c-3014b0e118b6"
      },
      "execution_count": 9,
      "outputs": [
        {
          "output_type": "stream",
          "name": "stdout",
          "text": [
            "Found 1038 validated image filenames belonging to 2 classes.\n",
            "Found 259 validated image filenames belonging to 2 classes.\n",
            "Found 556 validated image filenames belonging to 2 classes.\n"
          ]
        }
      ]
    },
    {
      "cell_type": "code",
      "source": [
        "train_images.class_indices"
      ],
      "metadata": {
        "colab": {
          "base_uri": "https://localhost:8080/"
        },
        "id": "QNRerC0Yg5I7",
        "outputId": "0b006eee-882f-45ae-c67f-c0b4e39c64e1"
      },
      "execution_count": 10,
      "outputs": [
        {
          "output_type": "execute_result",
          "data": {
            "text/plain": [
              "{'0': 0, '1': 1}"
            ]
          },
          "metadata": {},
          "execution_count": 10
        }
      ]
    },
    {
      "cell_type": "markdown",
      "source": [
        "### Training"
      ],
      "metadata": {
        "id": "PFbJp1jAbKg1"
      }
    },
    {
      "cell_type": "code",
      "source": [
        "# functional\n",
        "inputs = tf.keras.Input(shape=(256, 256, 3))\n",
        "xconv1 = tfl.Conv2D(filters=16, kernel_size=(3, 3), activation='relu')(inputs)\n",
        "max1 = tfl.MaxPool2D()(xconv1)\n",
        "xconv2 = tfl.Conv2D(filters=32, kernel_size=(3, 3), activation='relu')(max1)\n",
        "max2 = tfl.MaxPool2D()(xconv2)\n",
        "pool = tfl.GlobalAveragePooling2D()(max2)\n",
        "dense1 = tfl.Dense(128, activation='relu')(pool)\n",
        "dense2 = tfl.Dense(128, activation='relu')(dense1)\n",
        "outputs = tfl.Dense(1, activation='sigmoid')(dense2)\n",
        "\n",
        "model = tf.keras.Model(inputs=inputs, outputs=outputs)\n"
      ],
      "metadata": {
        "id": "QgDZQxPNV4hF"
      },
      "execution_count": 11,
      "outputs": []
    },
    {
      "cell_type": "markdown",
      "source": [
        "### compile model"
      ],
      "metadata": {
        "id": "UL_Ot4Vhg8zY"
      }
    },
    {
      "cell_type": "code",
      "source": [
        "model.compile(\n",
        "    optimizer='adam',\n",
        "    loss='binary_crossentropy',\n",
        "    metrics=['accuracy']\n",
        ")"
      ],
      "metadata": {
        "id": "4wmNeHWDV67v"
      },
      "execution_count": 12,
      "outputs": []
    },
    {
      "cell_type": "code",
      "source": [
        "# if loss over flactuates, u might reduce the learning rate\n",
        "\n",
        "history = model.fit(train_images, validation_data=val_images, epochs=100,\n",
        "                    callbacks=[\n",
        "                        tf.keras.callbacks.EarlyStopping(\n",
        "                            monitor='val_loss',\n",
        "                            patience=5,\n",
        "                            restore_best_weights=True\n",
        "                        ),\n",
        "                        tf.keras.callbacks.ReduceLROnPlateau(\n",
        "                            monitor='val_loss',\n",
        "                            patience=3,\n",
        "                        )\n",
        "                    ])"
      ],
      "metadata": {
        "colab": {
          "base_uri": "https://localhost:8080/"
        },
        "id": "r14Xd28BU5YM",
        "outputId": "2f3d706e-e6cc-44a6-b052-a0b69a44f384"
      },
      "execution_count": 13,
      "outputs": [
        {
          "output_type": "stream",
          "name": "stdout",
          "text": [
            "Epoch 1/100\n",
            "33/33 [==============================] - 49s 1s/step - loss: 0.6880 - accuracy: 0.5588 - val_loss: 0.6995 - val_accuracy: 0.5019 - lr: 0.0010\n",
            "Epoch 2/100\n",
            "33/33 [==============================] - 44s 1s/step - loss: 0.6837 - accuracy: 0.5636 - val_loss: 0.6870 - val_accuracy: 0.5058 - lr: 0.0010\n",
            "Epoch 3/100\n",
            "33/33 [==============================] - 44s 1s/step - loss: 0.6721 - accuracy: 0.5819 - val_loss: 0.6633 - val_accuracy: 0.6757 - lr: 0.0010\n",
            "Epoch 4/100\n",
            "33/33 [==============================] - 43s 1s/step - loss: 0.6459 - accuracy: 0.6416 - val_loss: 0.6173 - val_accuracy: 0.6950 - lr: 0.0010\n",
            "Epoch 5/100\n",
            "33/33 [==============================] - 44s 1s/step - loss: 0.6023 - accuracy: 0.6869 - val_loss: 0.6189 - val_accuracy: 0.6680 - lr: 0.0010\n",
            "Epoch 6/100\n",
            "33/33 [==============================] - 43s 1s/step - loss: 0.5642 - accuracy: 0.7274 - val_loss: 0.5066 - val_accuracy: 0.7761 - lr: 0.0010\n",
            "Epoch 7/100\n",
            "33/33 [==============================] - 43s 1s/step - loss: 0.5015 - accuracy: 0.7582 - val_loss: 0.4486 - val_accuracy: 0.7915 - lr: 0.0010\n",
            "Epoch 8/100\n",
            "33/33 [==============================] - 43s 1s/step - loss: 0.5006 - accuracy: 0.7707 - val_loss: 0.5367 - val_accuracy: 0.7181 - lr: 0.0010\n",
            "Epoch 9/100\n",
            "33/33 [==============================] - 45s 1s/step - loss: 0.5074 - accuracy: 0.7553 - val_loss: 0.4920 - val_accuracy: 0.7375 - lr: 0.0010\n",
            "Epoch 10/100\n",
            "33/33 [==============================] - 44s 1s/step - loss: 0.4698 - accuracy: 0.7794 - val_loss: 0.4458 - val_accuracy: 0.8147 - lr: 0.0010\n",
            "Epoch 11/100\n",
            "33/33 [==============================] - 43s 1s/step - loss: 0.4676 - accuracy: 0.7852 - val_loss: 0.3839 - val_accuracy: 0.8340 - lr: 0.0010\n",
            "Epoch 12/100\n",
            "33/33 [==============================] - 44s 1s/step - loss: 0.4333 - accuracy: 0.8083 - val_loss: 0.4006 - val_accuracy: 0.8147 - lr: 0.0010\n",
            "Epoch 13/100\n",
            "33/33 [==============================] - 45s 1s/step - loss: 0.4302 - accuracy: 0.8035 - val_loss: 0.3980 - val_accuracy: 0.8340 - lr: 0.0010\n",
            "Epoch 14/100\n",
            "33/33 [==============================] - 44s 1s/step - loss: 0.4340 - accuracy: 0.7948 - val_loss: 0.4042 - val_accuracy: 0.8340 - lr: 0.0010\n",
            "Epoch 15/100\n",
            "33/33 [==============================] - 44s 1s/step - loss: 0.4074 - accuracy: 0.8198 - val_loss: 0.3977 - val_accuracy: 0.8185 - lr: 1.0000e-04\n",
            "Epoch 16/100\n",
            "33/33 [==============================] - 44s 1s/step - loss: 0.3864 - accuracy: 0.8295 - val_loss: 0.3776 - val_accuracy: 0.8417 - lr: 1.0000e-04\n",
            "Epoch 17/100\n",
            "33/33 [==============================] - 45s 1s/step - loss: 0.3936 - accuracy: 0.8218 - val_loss: 0.3689 - val_accuracy: 0.8456 - lr: 1.0000e-04\n",
            "Epoch 18/100\n",
            "33/33 [==============================] - 44s 1s/step - loss: 0.3753 - accuracy: 0.8382 - val_loss: 0.3675 - val_accuracy: 0.8494 - lr: 1.0000e-04\n",
            "Epoch 19/100\n",
            "33/33 [==============================] - 44s 1s/step - loss: 0.3786 - accuracy: 0.8353 - val_loss: 0.3678 - val_accuracy: 0.8494 - lr: 1.0000e-04\n",
            "Epoch 20/100\n",
            "33/33 [==============================] - 43s 1s/step - loss: 0.3888 - accuracy: 0.8227 - val_loss: 0.3764 - val_accuracy: 0.8378 - lr: 1.0000e-04\n",
            "Epoch 21/100\n",
            "33/33 [==============================] - 44s 1s/step - loss: 0.3801 - accuracy: 0.8276 - val_loss: 0.3575 - val_accuracy: 0.8494 - lr: 1.0000e-04\n",
            "Epoch 22/100\n",
            "33/33 [==============================] - 45s 1s/step - loss: 0.3677 - accuracy: 0.8353 - val_loss: 0.3586 - val_accuracy: 0.8417 - lr: 1.0000e-04\n",
            "Epoch 23/100\n",
            "33/33 [==============================] - 43s 1s/step - loss: 0.3768 - accuracy: 0.8372 - val_loss: 0.3800 - val_accuracy: 0.8263 - lr: 1.0000e-04\n",
            "Epoch 24/100\n",
            "33/33 [==============================] - 43s 1s/step - loss: 0.3705 - accuracy: 0.8314 - val_loss: 0.3425 - val_accuracy: 0.8571 - lr: 1.0000e-04\n",
            "Epoch 25/100\n",
            "33/33 [==============================] - 44s 1s/step - loss: 0.3790 - accuracy: 0.8218 - val_loss: 0.3506 - val_accuracy: 0.8417 - lr: 1.0000e-04\n",
            "Epoch 26/100\n",
            "33/33 [==============================] - 44s 1s/step - loss: 0.3708 - accuracy: 0.8314 - val_loss: 0.3687 - val_accuracy: 0.8224 - lr: 1.0000e-04\n",
            "Epoch 27/100\n",
            "33/33 [==============================] - 43s 1s/step - loss: 0.3602 - accuracy: 0.8555 - val_loss: 0.3403 - val_accuracy: 0.8417 - lr: 1.0000e-04\n",
            "Epoch 28/100\n",
            "33/33 [==============================] - 44s 1s/step - loss: 0.3737 - accuracy: 0.8237 - val_loss: 0.3733 - val_accuracy: 0.8340 - lr: 1.0000e-04\n",
            "Epoch 29/100\n",
            "33/33 [==============================] - 43s 1s/step - loss: 0.3587 - accuracy: 0.8478 - val_loss: 0.3455 - val_accuracy: 0.8378 - lr: 1.0000e-04\n",
            "Epoch 30/100\n",
            "33/33 [==============================] - 44s 1s/step - loss: 0.3737 - accuracy: 0.8314 - val_loss: 0.3574 - val_accuracy: 0.8340 - lr: 1.0000e-04\n",
            "Epoch 31/100\n",
            "33/33 [==============================] - 43s 1s/step - loss: 0.3581 - accuracy: 0.8497 - val_loss: 0.3603 - val_accuracy: 0.8340 - lr: 1.0000e-05\n",
            "Epoch 32/100\n",
            "33/33 [==============================] - 43s 1s/step - loss: 0.3526 - accuracy: 0.8382 - val_loss: 0.3568 - val_accuracy: 0.8456 - lr: 1.0000e-05\n"
          ]
        }
      ]
    },
    {
      "cell_type": "code",
      "source": [
        "results = model.evaluate(test_images, verbose=0)\n",
        "\n",
        "print(\"Test Loss: {:.5f}\".format(results[0]))\n",
        "print(\"Test Accuracy: {:.2f}%\".format(results[1] * 100))"
      ],
      "metadata": {
        "colab": {
          "base_uri": "https://localhost:8080/"
        },
        "id": "_dzuoIxGkRJI",
        "outputId": "91cdd253-2bdd-43d4-82af-8e6cc8b4a5d9"
      },
      "execution_count": 15,
      "outputs": [
        {
          "output_type": "stream",
          "name": "stdout",
          "text": [
            "Test Loss: 0.44052\n",
            "Test Accuracy: 81.47%\n"
          ]
        }
      ]
    },
    {
      "cell_type": "code",
      "source": [
        "from sklearn.metrics import confusion_matrix, classification_report\n",
        "import seaborn as sns\n",
        "import warnings\n",
        "warnings.filterwarnings(\"ignore\")"
      ],
      "metadata": {
        "id": "8M68P26LN1FE"
      },
      "execution_count": 24,
      "outputs": []
    },
    {
      "cell_type": "code",
      "source": [
        "predictions = (model.predict(test_images) >= 0.5).astype(np.int)\n",
        "\n",
        "cm = confusion_matrix(test_images.labels, predictions, labels=[0, 1])\n",
        "clr = classification_report(test_images.labels, predictions, labels=[0, 1], target_names=[\"0\" ,\"1\"])\n",
        "\n",
        "plt.figure(figsize=(6, 6))\n",
        "sns.heatmap(cm, annot=True, fmt='g', vmin=0, cmap='Blues', cbar=False)\n",
        "plt.xticks(ticks=[0.5, 1.5], labels=[\"0\" ,\"1\"])\n",
        "plt.xticks(ticks=[0.5, 1.5], labels=[\"0\" ,\"1\"])\n",
        "plt.xlabel(\"Predicted\")\n",
        "plt.ylabel(\"Actual\")\n",
        "plt.title(\"Confusion Matrix\")\n",
        "plt.show()\n",
        "\n",
        "print(\"Classification Report:\\n-------------------\\n\", clr)"
      ],
      "metadata": {
        "colab": {
          "base_uri": "https://localhost:8080/",
          "height": 612
        },
        "id": "vVjKZJNRMnRw",
        "outputId": "58e7acc3-be21-426b-a1f6-80678f7f1d03"
      },
      "execution_count": 25,
      "outputs": [
        {
          "output_type": "stream",
          "name": "stdout",
          "text": [
            "18/18 [==============================] - 14s 765ms/step\n"
          ]
        },
        {
          "output_type": "display_data",
          "data": {
            "text/plain": [
              "<Figure size 432x432 with 1 Axes>"
            ],
            "image/png": "[encoded data removed]"
          },
          "metadata": {
            "needs_background": "light"
          }
        },
        {
          "output_type": "stream",
          "name": "stdout",
          "text": [
            "Classification Report:\n",
            "-------------------\n",
            "               precision    recall  f1-score   support\n",
            "\n",
            "           0       0.77      0.84      0.81       253\n",
            "           1       0.86      0.79      0.82       303\n",
            "\n",
            "    accuracy                           0.81       556\n",
            "   macro avg       0.81      0.82      0.81       556\n",
            "weighted avg       0.82      0.81      0.82       556\n",
            "\n"
          ]
        }
      ]
    },
    {
      "cell_type": "code",
      "source": [
        "history.history"
      ],
      "metadata": {
        "colab": {
          "base_uri": "https://localhost:8080/"
        },
        "id": "NZgRx0xnMnTs",
        "outputId": "d233d179-f0a5-4002-db25-d325ed7a32cb"
      },
      "execution_count": 26,
      "outputs": [
        {
          "output_type": "execute_result",
          "data": {
            "text/plain": [
              "{'loss': [0.6880194544792175,\n",
              "  0.6837252974510193,\n",
              "  0.672144889831543,\n",
              "  0.6459197402000427,\n",
              "  0.6022549867630005,\n",
              "  0.5641611218452454,\n",
              "  0.5014793872833252,\n",
              "  0.5006495714187622,\n",
              "  0.5074024796485901,\n",
              "  0.46980544924736023,\n",
              "  0.46763357520103455,\n",
              "  0.4333411753177643,\n",
              "  0.43020695447921753,\n",
              "  0.43397998809814453,\n",
              "  0.40743330121040344,\n",
              "  0.38637253642082214,\n",
              "  0.39355936646461487,\n",
              "  0.3752882778644562,\n",
              "  0.37855422496795654,\n",
              "  0.3888038992881775,\n",
              "  0.3800538182258606,\n",
              "  0.36765170097351074,\n",
              "  0.3767588138580322,\n",
              "  0.3704710006713867,\n",
              "  0.3789673447608948,\n",
              "  0.3708025813102722,\n",
              "  0.3601953983306885,\n",
              "  0.37368321418762207,\n",
              "  0.3586917817592621,\n",
              "  0.3736618161201477,\n",
              "  0.35805973410606384,\n",
              "  0.35264408588409424],\n",
              " 'accuracy': [0.5587668418884277,\n",
              "  0.5635837912559509,\n",
              "  0.5818882584571838,\n",
              "  0.6416184902191162,\n",
              "  0.686897873878479,\n",
              "  0.7273603081703186,\n",
              "  0.7581888437271118,\n",
              "  0.7707129120826721,\n",
              "  0.7552986741065979,\n",
              "  0.7793834209442139,\n",
              "  0.7851637601852417,\n",
              "  0.8082851767539978,\n",
              "  0.8034682273864746,\n",
              "  0.7947976589202881,\n",
              "  0.8198458552360535,\n",
              "  0.8294797539710999,\n",
              "  0.8217726349830627,\n",
              "  0.8381502628326416,\n",
              "  0.8352600932121277,\n",
              "  0.8227360248565674,\n",
              "  0.8275529742240906,\n",
              "  0.8352600932121277,\n",
              "  0.837186872959137,\n",
              "  0.8314065337181091,\n",
              "  0.8217726349830627,\n",
              "  0.8314065337181091,\n",
              "  0.8554913401603699,\n",
              "  0.823699414730072,\n",
              "  0.8477842211723328,\n",
              "  0.8314065337181091,\n",
              "  0.849711000919342,\n",
              "  0.8381502628326416],\n",
              " 'val_loss': [0.6994600892066956,\n",
              "  0.6869701147079468,\n",
              "  0.6633027791976929,\n",
              "  0.6173388957977295,\n",
              "  0.6188942193984985,\n",
              "  0.5065535306930542,\n",
              "  0.44860783219337463,\n",
              "  0.5366870164871216,\n",
              "  0.4919869303703308,\n",
              "  0.44579094648361206,\n",
              "  0.38387244939804077,\n",
              "  0.4005977511405945,\n",
              "  0.3979910612106323,\n",
              "  0.40415725111961365,\n",
              "  0.3977292776107788,\n",
              "  0.37761086225509644,\n",
              "  0.36888670921325684,\n",
              "  0.3675452768802643,\n",
              "  0.367796391248703,\n",
              "  0.37642306089401245,\n",
              "  0.3574502766132355,\n",
              "  0.3586115837097168,\n",
              "  0.38004186749458313,\n",
              "  0.34247729182243347,\n",
              "  0.35055407881736755,\n",
              "  0.36874520778656006,\n",
              "  0.34028998017311096,\n",
              "  0.37334296107292175,\n",
              "  0.3454870879650116,\n",
              "  0.3574279248714447,\n",
              "  0.3603243827819824,\n",
              "  0.35679811239242554],\n",
              " 'val_accuracy': [0.5019304752349854,\n",
              "  0.5057914853096008,\n",
              "  0.6756756901741028,\n",
              "  0.6949806809425354,\n",
              "  0.6679536700248718,\n",
              "  0.7760617733001709,\n",
              "  0.7915058135986328,\n",
              "  0.7181467413902283,\n",
              "  0.7374517321586609,\n",
              "  0.8146718144416809,\n",
              "  0.8339768052101135,\n",
              "  0.8146718144416809,\n",
              "  0.8339768052101135,\n",
              "  0.8339768052101135,\n",
              "  0.8185328245162964,\n",
              "  0.8416988253593445,\n",
              "  0.84555983543396,\n",
              "  0.8494208455085754,\n",
              "  0.8494208455085754,\n",
              "  0.837837815284729,\n",
              "  0.8494208455085754,\n",
              "  0.8416988253593445,\n",
              "  0.8262548446655273,\n",
              "  0.8571428656578064,\n",
              "  0.8416988253593445,\n",
              "  0.8223938345909119,\n",
              "  0.8416988253593445,\n",
              "  0.8339768052101135,\n",
              "  0.837837815284729,\n",
              "  0.8339768052101135,\n",
              "  0.8339768052101135,\n",
              "  0.84555983543396],\n",
              " 'lr': [0.001,\n",
              "  0.001,\n",
              "  0.001,\n",
              "  0.001,\n",
              "  0.001,\n",
              "  0.001,\n",
              "  0.001,\n",
              "  0.001,\n",
              "  0.001,\n",
              "  0.001,\n",
              "  0.001,\n",
              "  0.001,\n",
              "  0.001,\n",
              "  0.001,\n",
              "  0.000100000005,\n",
              "  0.000100000005,\n",
              "  0.000100000005,\n",
              "  0.000100000005,\n",
              "  0.000100000005,\n",
              "  0.000100000005,\n",
              "  0.000100000005,\n",
              "  0.000100000005,\n",
              "  0.000100000005,\n",
              "  0.000100000005,\n",
              "  0.000100000005,\n",
              "  0.000100000005,\n",
              "  0.000100000005,\n",
              "  0.000100000005,\n",
              "  0.000100000005,\n",
              "  0.000100000005,\n",
              "  1.0000001e-05,\n",
              "  1.0000001e-05]}"
            ]
          },
          "metadata": {},
          "execution_count": 26
        }
      ]
    },
    {
      "cell_type": "code",
      "source": [
        "df_loss_acc = pd.DataFrame(history.history)\n",
        "df_loss= df_loss_acc[['loss','val_loss']]\n",
        "df_loss.rename(columns={'loss':'train','val_loss':'validation'},inplace=True)\n",
        "df_acc= df_loss_acc[['accuracy','val_accuracy']]\n",
        "df_acc.rename(columns={'accuracy':'train','val_accuracy':'validation'},inplace=True)\n",
        "df_loss.plot(title='Model loss',figsize=(12,8)).set(xlabel='Epoch',ylabel='Loss')\n",
        "df_acc.plot(title='Model Accuracy',figsize=(12,8)).set(xlabel='Epoch',ylabel='Accuracy')"
      ],
      "metadata": {
        "colab": {
          "base_uri": "https://localhost:8080/",
          "height": 1000
        },
        "id": "yZCfDBSfMnXd",
        "outputId": "d52d2cf4-201a-4aca-c8ae-e077ad819dbf"
      },
      "execution_count": 27,
      "outputs": [
        {
          "output_type": "execute_result",
          "data": {
            "text/plain": [
              "[Text(0, 0.5, 'Accuracy'), Text(0.5, 0, 'Epoch')]"
            ]
          },
          "metadata": {},
          "execution_count": 27
        },
        {
          "output_type": "display_data",
          "data": {
            "text/plain": [
              "<Figure size 864x576 with 1 Axes>"
            ],
            "image/png": "[encoded data removed]"
          },
          "metadata": {
            "needs_background": "light"
          }
        },
        {
          "output_type": "display_data",
          "data": {
            "text/plain": [
              "<Figure size 864x576 with 1 Axes>"
            ],
            "image/png": "[encoded data removed]"
          },
          "metadata": {
            "needs_background": "light"
          }
        }
      ]
    },
    {
      "cell_type": "code",
      "source": [],
      "metadata": {
        "id": "lkI2Yesjht2z"
      },
      "execution_count": null,
      "outputs": []
    }
  ]
}